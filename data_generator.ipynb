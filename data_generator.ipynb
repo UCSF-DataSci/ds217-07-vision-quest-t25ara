{
 "cells": [
  {
   "cell_type": "markdown",
   "id": "6b968d59",
   "metadata": {},
   "source": [
    "# Data Generator for Assignment 7\n",
    "\n",
    "## Overview\n",
    "This notebook generates sample datasets for the data visualization assignment.\n",
    "\n",
    "## Setup"
   ]
  },
  {
   "cell_type": "code",
   "execution_count": 1,
   "id": "d5246275",
   "metadata": {},
   "outputs": [],
   "source": [
    "import pandas as pd\n",
    "import numpy as np\n",
    "import os\n",
    "from datetime import datetime, timedelta\n",
    "\n",
    "# Set random seed for reproducibility\n",
    "np.random.seed(42)\n",
    "\n",
    "# Create data directory\n",
    "os.makedirs('data', exist_ok=True)"
   ]
  },
  {
   "cell_type": "markdown",
   "id": "3db6ceb9",
   "metadata": {},
   "source": [
    "## Generate Sales Data"
   ]
  },
  {
   "cell_type": "code",
   "execution_count": 2,
   "id": "65fdbd68",
   "metadata": {},
   "outputs": [
    {
     "name": "stdout",
     "output_type": "stream",
     "text": [
      "Generated 1000 sales transactions\n",
      "  transaction_id customer_id product_id  quantity  unit_price  total_amount  \\\n",
      "0          T0001       C0103       P040        10  229.359978   2293.599785   \n",
      "1          T0002       C0180       P083         3   75.794677    227.384031   \n",
      "2          T0003       C0093       P042         5  479.387719   2396.938597   \n",
      "3          T0004       C0015       P041         5  269.533265   1347.666324   \n",
      "4          T0005       C0107       P006         4  128.527714    514.110856   \n",
      "\n",
      "  transaction_date store_location  \n",
      "0       2025-10-08          South  \n",
      "1       2025-07-20          North  \n",
      "2       2025-06-24           East  \n",
      "3       2025-07-26          South  \n",
      "4       2025-08-01          South  \n"
     ]
    }
   ],
   "source": [
    "# Generate sales transactions\n",
    "n_transactions = 1000\n",
    "transaction_ids = [f'T{i:04d}' for i in range(1, n_transactions + 1)]\n",
    "customer_ids = [f'C{i:04d}' for i in np.random.randint(1, 201, n_transactions)]\n",
    "product_ids = [f'P{i:03d}' for i in np.random.randint(1, 101, n_transactions)]\n",
    "\n",
    "# Generate transaction dates (last 6 months)\n",
    "start_date = datetime.now() - timedelta(days=180)\n",
    "dates = [start_date + timedelta(days=np.random.randint(0, 180)) for _ in range(n_transactions)]\n",
    "\n",
    "# Generate quantities and prices\n",
    "quantities = np.random.randint(1, 11, n_transactions)\n",
    "unit_prices = np.random.uniform(10, 500, n_transactions)\n",
    "total_amounts = quantities * unit_prices\n",
    "\n",
    "# Generate store locations\n",
    "store_locations = np.random.choice(['North', 'South', 'East', 'West'], n_transactions)\n",
    "\n",
    "# Create sales DataFrame\n",
    "sales_data = pd.DataFrame({\n",
    "    'transaction_id': transaction_ids,\n",
    "    'customer_id': customer_ids,\n",
    "    'product_id': product_ids,\n",
    "    'quantity': quantities,\n",
    "    'unit_price': unit_prices,\n",
    "    'total_amount': total_amounts,\n",
    "    'transaction_date': [d.strftime('%Y-%m-%d') for d in dates],\n",
    "    'store_location': store_locations\n",
    "})\n",
    "\n",
    "# Save to CSV\n",
    "sales_data.to_csv('data/sales_data.csv', index=False)\n",
    "print(f\"Generated {len(sales_data)} sales transactions\")\n",
    "print(sales_data.head())"
   ]
  },
  {
   "cell_type": "markdown",
   "id": "7cb9eb9d",
   "metadata": {},
   "source": [
    "## Generate Customer Data"
   ]
  },
  {
   "cell_type": "code",
   "execution_count": 3,
   "id": "f0eb71c5",
   "metadata": {},
   "outputs": [
    {
     "name": "stdout",
     "output_type": "stream",
     "text": [
      "Generated 200 customers\n",
      "  customer_id customer_name  age gender          city state registration_date\n",
      "0       C0001    Customer 1   59      F     San Diego    NC        2025-05-04\n",
      "1       C0002    Customer 2   76      M   San Antonio    CA        2025-04-15\n",
      "2       C0003    Customer 3   64      M   San Antonio    PA        2025-06-24\n",
      "3       C0004    Customer 4   70      M  Philadelphia    NC        2025-10-10\n",
      "4       C0005    Customer 5   71      M       Phoenix    NY        2024-12-06\n"
     ]
    }
   ],
   "source": [
    "# Generate customer information\n",
    "n_customers = 200\n",
    "customer_ids = [f'C{i:04d}' for i in range(1, n_customers + 1)]\n",
    "names = [f'Customer {i}' for i in range(1, n_customers + 1)]\n",
    "\n",
    "# Generate demographics\n",
    "ages = np.random.randint(18, 80, n_customers)\n",
    "genders = np.random.choice(['M', 'F'], n_customers)\n",
    "cities = np.random.choice(['New York', 'Los Angeles', 'Chicago', 'Houston', 'Phoenix', \n",
    "                          'Philadelphia', 'San Antonio', 'San Diego', 'Dallas', 'San Jose'], n_customers)\n",
    "states = np.random.choice(['CA', 'NY', 'TX', 'FL', 'WA', 'IL', 'PA', 'OH', 'GA', 'NC'], n_customers)\n",
    "\n",
    "# Generate registration dates\n",
    "reg_dates = [datetime.now() - timedelta(days=np.random.randint(0, 365)) for _ in range(n_customers)]\n",
    "\n",
    "# Create customer DataFrame\n",
    "customer_data = pd.DataFrame({\n",
    "    'customer_id': customer_ids,\n",
    "    'customer_name': names,\n",
    "    'age': ages,\n",
    "    'gender': genders,\n",
    "    'city': cities,\n",
    "    'state': states,\n",
    "    'registration_date': [d.strftime('%Y-%m-%d') for d in reg_dates]\n",
    "})\n",
    "\n",
    "# Save to CSV\n",
    "customer_data.to_csv('data/customer_data.csv', index=False)\n",
    "print(f\"Generated {len(customer_data)} customers\")\n",
    "print(customer_data.head())"
   ]
  },
  {
   "cell_type": "markdown",
   "id": "b8d257d2",
   "metadata": {},
   "source": [
    "## Generate Product Data"
   ]
  },
  {
   "cell_type": "code",
   "execution_count": 4,
   "id": "a19b7a79",
   "metadata": {},
   "outputs": [
    {
     "name": "stdout",
     "output_type": "stream",
     "text": [
      "Generated 100 products\n",
      "  product_id product_name     category    brand  unit_price  stock_quantity\n",
      "0       P001    Product 1       Sports  Brand D  462.096118              36\n",
      "1       P002    Product 2     Clothing  Brand D  256.162192              22\n",
      "2       P003    Product 3       Sports  Brand C  170.663157              92\n",
      "3       P004    Product 4  Electronics  Brand C  371.194883              84\n",
      "4       P005    Product 5     Clothing  Brand D   27.989342              90\n"
     ]
    }
   ],
   "source": [
    "# Generate product catalog\n",
    "n_products = 100\n",
    "product_ids = [f'P{i:03d}' for i in range(1, n_products + 1)]\n",
    "\n",
    "# Generate product information\n",
    "categories = np.random.choice(['Electronics', 'Clothing', 'Home & Garden', 'Books', 'Sports'], n_products)\n",
    "brands = np.random.choice(['Brand A', 'Brand B', 'Brand C', 'Brand D', 'Brand E'], n_products)\n",
    "product_names = [f'Product {i}' for i in range(1, n_products + 1)]\n",
    "\n",
    "# Generate prices and stock\n",
    "unit_prices = np.random.uniform(10, 500, n_products)\n",
    "stock_quantities = np.random.randint(0, 100, n_products)\n",
    "\n",
    "# Create product DataFrame\n",
    "product_data = pd.DataFrame({\n",
    "    'product_id': product_ids,\n",
    "    'product_name': product_names,\n",
    "    'category': categories,\n",
    "    'brand': brands,\n",
    "    'unit_price': unit_prices,\n",
    "    'stock_quantity': stock_quantities\n",
    "})\n",
    "\n",
    "# Save to CSV\n",
    "product_data.to_csv('data/product_data.csv', index=False)\n",
    "print(f\"Generated {len(product_data)} products\")\n",
    "print(product_data.head())"
   ]
  },
  {
   "cell_type": "markdown",
   "id": "faf253d5",
   "metadata": {},
   "source": [
    "## Data Summary"
   ]
  },
  {
   "cell_type": "code",
   "execution_count": 5,
   "id": "6db47907",
   "metadata": {},
   "outputs": [
    {
     "name": "stdout",
     "output_type": "stream",
     "text": [
      "=== DATA SUMMARY ===\n",
      "Sales Data: 1000 transactions\n",
      "Customer Data: 200 customers\n",
      "Product Data: 100 products\n",
      "\n",
      "Sales Data Columns: ['transaction_id', 'customer_id', 'product_id', 'quantity', 'unit_price', 'total_amount', 'transaction_date', 'store_location']\n",
      "Customer Data Columns: ['customer_id', 'customer_name', 'age', 'gender', 'city', 'state', 'registration_date']\n",
      "Product Data Columns: ['product_id', 'product_name', 'category', 'brand', 'unit_price', 'stock_quantity']\n",
      "\n",
      "=== SAMPLE SALES DATA ===\n",
      "  transaction_id customer_id product_id  quantity  unit_price  total_amount  \\\n",
      "0          T0001       C0103       P040        10  229.359978   2293.599785   \n",
      "1          T0002       C0180       P083         3   75.794677    227.384031   \n",
      "2          T0003       C0093       P042         5  479.387719   2396.938597   \n",
      "3          T0004       C0015       P041         5  269.533265   1347.666324   \n",
      "4          T0005       C0107       P006         4  128.527714    514.110856   \n",
      "\n",
      "  transaction_date store_location  \n",
      "0       2025-10-08          South  \n",
      "1       2025-07-20          North  \n",
      "2       2025-06-24           East  \n",
      "3       2025-07-26          South  \n",
      "4       2025-08-01          South  \n",
      "\n",
      "=== SAMPLE CUSTOMER DATA ===\n",
      "  customer_id customer_name  age gender          city state registration_date\n",
      "0       C0001    Customer 1   59      F     San Diego    NC        2025-05-04\n",
      "1       C0002    Customer 2   76      M   San Antonio    CA        2025-04-15\n",
      "2       C0003    Customer 3   64      M   San Antonio    PA        2025-06-24\n",
      "3       C0004    Customer 4   70      M  Philadelphia    NC        2025-10-10\n",
      "4       C0005    Customer 5   71      M       Phoenix    NY        2024-12-06\n",
      "\n",
      "=== SAMPLE PRODUCT DATA ===\n",
      "  product_id product_name     category    brand  unit_price  stock_quantity\n",
      "0       P001    Product 1       Sports  Brand D  462.096118              36\n",
      "1       P002    Product 2     Clothing  Brand D  256.162192              22\n",
      "2       P003    Product 3       Sports  Brand C  170.663157              92\n",
      "3       P004    Product 4  Electronics  Brand C  371.194883              84\n",
      "4       P005    Product 5     Clothing  Brand D   27.989342              90\n"
     ]
    }
   ],
   "source": [
    "# Display data summary\n",
    "print(\"=== DATA SUMMARY ===\")\n",
    "print(f\"Sales Data: {len(sales_data)} transactions\")\n",
    "print(f\"Customer Data: {len(customer_data)} customers\")\n",
    "print(f\"Product Data: {len(product_data)} products\")\n",
    "print(\"\\nSales Data Columns:\", sales_data.columns.tolist())\n",
    "print(\"Customer Data Columns:\", customer_data.columns.tolist())\n",
    "print(\"Product Data Columns:\", product_data.columns.tolist())\n",
    "\n",
    "# Display sample data\n",
    "print(\"\\n=== SAMPLE SALES DATA ===\")\n",
    "print(sales_data.head())\n",
    "print(\"\\n=== SAMPLE CUSTOMER DATA ===\")\n",
    "print(customer_data.head())\n",
    "print(\"\\n=== SAMPLE PRODUCT DATA ===\")\n",
    "print(product_data.head())"
   ]
  },
  {
   "cell_type": "markdown",
   "id": "ad400218",
   "metadata": {},
   "source": [
    "## Validation"
   ]
  },
  {
   "cell_type": "code",
   "execution_count": 6,
   "id": "1749eeb1",
   "metadata": {},
   "outputs": [
    {
     "name": "stdout",
     "output_type": "stream",
     "text": [
      "=== DATA VALIDATION ===\n",
      "Missing values in sales_data: 0\n",
      "Missing values in customer_data: 0\n",
      "Missing values in product_data: 0\n",
      "\n",
      "Sales data types:\n",
      "transaction_id       object\n",
      "customer_id          object\n",
      "product_id           object\n",
      "quantity              int64\n",
      "unit_price          float64\n",
      "total_amount        float64\n",
      "transaction_date     object\n",
      "store_location       object\n",
      "dtype: object\n",
      "\n",
      "Customer data types:\n",
      "customer_id          object\n",
      "customer_name        object\n",
      "age                   int64\n",
      "gender               object\n",
      "city                 object\n",
      "state                object\n",
      "registration_date    object\n",
      "dtype: object\n",
      "\n",
      "Product data types:\n",
      "product_id         object\n",
      "product_name       object\n",
      "category           object\n",
      "brand              object\n",
      "unit_price        float64\n",
      "stock_quantity      int64\n",
      "dtype: object\n",
      "\n",
      "Data generation completed successfully!\n"
     ]
    }
   ],
   "source": [
    "# Validate data integrity\n",
    "print(\"=== DATA VALIDATION ===\")\n",
    "\n",
    "# Check for missing values\n",
    "print(\"Missing values in sales_data:\", sales_data.isnull().sum().sum())\n",
    "print(\"Missing values in customer_data:\", customer_data.isnull().sum().sum())\n",
    "print(\"Missing values in product_data:\", product_data.isnull().sum().sum())\n",
    "\n",
    "# Check data types\n",
    "print(\"\\nSales data types:\")\n",
    "print(sales_data.dtypes)\n",
    "print(\"\\nCustomer data types:\")\n",
    "print(customer_data.dtypes)\n",
    "print(\"\\nProduct data types:\")\n",
    "print(product_data.dtypes)\n",
    "\n",
    "print(\"\\nData generation completed successfully!\")"
   ]
  }
 ],
 "metadata": {
  "jupytext": {
   "cell_metadata_filter": "-all",
   "main_language": "python",
   "notebook_metadata_filter": "-all"
  },
  "kernelspec": {
   "display_name": ".venv",
   "language": "python",
   "name": "python3"
  },
  "language_info": {
   "codemirror_mode": {
    "name": "ipython",
    "version": 3
   },
   "file_extension": ".py",
   "mimetype": "text/x-python",
   "name": "python",
   "nbconvert_exporter": "python",
   "pygments_lexer": "ipython3",
   "version": "3.12.3"
  }
 },
 "nbformat": 4,
 "nbformat_minor": 5
}
